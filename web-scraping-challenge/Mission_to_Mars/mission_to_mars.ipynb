{
 "cells": [
  {
   "cell_type": "markdown",
   "metadata": {},
   "source": [
    "# Question for the TA\n",
    "Regarding the below **Mars Hemispheres** section:  To obtain each image URL, I went to the applicable hemisphere web page by using Splinter to click the image in the parent web page (https://astrogeology.usgs.gov/search/results?q=hemisphere+enhanced&k1=target&v1=Mars).  To get the next image, I had to reload the parent web page, and then click the image.  Sort'a a ping-ponging approach.  Is there a better way, like going directly from one hemisphere page to the next, without returning to the parent?  How?"
   ]
  },
  {
   "cell_type": "code",
   "execution_count": 1,
   "metadata": {},
   "outputs": [],
   "source": [
    "from splinter import Browser\n",
    "from bs4 import BeautifulSoup\n",
    "import requests\n",
    "import pandas as pd\n",
    "\n",
    "nasa_mars_news_url = 'https://mars.nasa.gov/news'\n",
    "jpl_mars_site_url = 'https://www.jpl.nasa.gov/spaceimages/?search=&category=Mars'\n",
    "twitter_mars_weather_url = 'https://twitter.com/marswxreport?lang=en'\n",
    "mars_facts_site_url = 'https://space-facts.com/mars/'\n",
    "usgs_astrogeology_site_url = 'https://astrogeology.usgs.gov/search/results?q=hemisphere+enhanced&k1=target&v1=Mars'"
   ]
  },
  {
   "cell_type": "markdown",
   "metadata": {},
   "source": [
    "## Scrape dictionary\n",
    "The results of scrapping each web site is stored in a single dictionary"
   ]
  },
  {
   "cell_type": "code",
   "execution_count": 2,
   "metadata": {},
   "outputs": [],
   "source": [
    "scrape_data = {}"
   ]
  },
  {
   "cell_type": "markdown",
   "metadata": {},
   "source": [
    "### Caveat - the above web pages must be downloaded with Splinter, not Requests\n",
    "It appears that Requests does not collect the correct web page content, which is seen by examining the content that Requests renders and comparing that content that is displayed by the browser inspector.  The Splinter content does agree with the browser inspector.  The opposite is true for the Twitter site.\n",
    "\n",
    "#### Caveat to the caveat\n",
    "**Sometimes code that downloads a web page must be repeated to insure that the proper content is received.**\n",
    "A snippet of the content is printed for verification."
   ]
  },
  {
   "cell_type": "code",
   "execution_count": 3,
   "metadata": {},
   "outputs": [],
   "source": [
    "# initiate splinter\n",
    "executable_path = {'executable_path': '/usr/local/bin/chromedriver'}\n",
    "browser = Browser('chrome', **executable_path, headless=False)"
   ]
  },
  {
   "cell_type": "markdown",
   "metadata": {},
   "source": [
    "### Browser display\n",
    "The Chrome browser will render the target web page when Splinter obtains it"
   ]
  },
  {
   "cell_type": "markdown",
   "metadata": {},
   "source": [
    "## NASA Mars News\n",
    "Inspecting https://mars.nasa.gov/news (with the browser inspector), the structures that contain news titles and paragraphs are in a list item having 'slide' class. "
   ]
  },
  {
   "cell_type": "code",
   "execution_count": 4,
   "metadata": {},
   "outputs": [],
   "source": [
    "# render the web page content as a BeautifulSoup object and archive as a txt file, which \n",
    "# can then be inspected with an editor to verify correctness (i.e. matches the content shown\n",
    "# in the browser inspector)\n",
    "browser.visit(nasa_mars_news_url)\n",
    "nasa_mars_news_soup = BeautifulSoup(browser.html, 'html.parser')\n",
    "with open(\"html_txt/nasa_mars_news.txt\", \"w\") as file:\n",
    "    file.write(nasa_mars_news_soup.prettify())\n",
    "\n",
    "# it seems to need a repeat to insure the entire web page is loaded\n",
    "browser.visit(nasa_mars_news_url)\n",
    "nasa_mars_news_soup = BeautifulSoup(browser.html, 'html.parser')\n",
    "with open(\"html_txt/nasa_mars_news.txt\", \"w\") as file:\n",
    "    file.write(nasa_mars_news_soup.prettify())"
   ]
  },
  {
   "cell_type": "markdown",
   "metadata": {},
   "source": [
    "#### Inspect a single slide object\n",
    "Identify the applicable elements in a slide object that may be used to extract the news title and paragraph.  \n",
    "**Note:** This can also be used to verify the correct html was downloaded, if this notebook is run again."
   ]
  },
  {
   "cell_type": "code",
   "execution_count": 5,
   "metadata": {},
   "outputs": [
    {
     "name": "stdout",
     "output_type": "stream",
     "text": [
      "<li class=\"slide\">\n",
      " <div class=\"image_and_description_container\">\n",
      "  <a href=\"/news/8613/a-year-of-surprising-science-from-nasas-insight-mars-mission/\" target=\"_self\">\n",
      "   <div class=\"rollover_description\">\n",
      "    <div class=\"rollover_description_inner\">\n",
      "     A batch of new papers summarizes the lander's findings above and below the surface of the Red Planet.\n",
      "    </div>\n",
      "    <div class=\"overlay_arrow\">\n",
      "     <img alt=\"More\" src=\"/assets/overlay-arrow.png\"/>\n",
      "    </div>\n",
      "   </div>\n",
      "   <div class=\"list_image\">\n",
      "    <img alt=\"In this artist's concept of NASA's InSight lander on Mars, layers of the planet's subsurface can be seen below and dust devils can be seen in the background.\" src=\"/system/news_items/list_view_images/8613_InSight-Nature-papers-320x240.jpg\"/>\n",
      "   </div>\n",
      "   <div class=\"bottom_gradient\">\n",
      "    <div>\n",
      "     <h3>\n",
      "      A Year of Surprising Science From NASA's InSight Mars Mission\n",
      "     </h3>\n",
      "    </div>\n",
      "   </div>\n",
      "  </a>\n",
      "  <div class=\"list_text\">\n",
      "   <div class=\"list_date\">\n",
      "    February 24, 2020\n",
      "   </div>\n",
      "   <div class=\"content_title\">\n",
      "    <a href=\"/news/8613/a-year-of-surprising-science-from-nasas-insight-mars-mission/\" target=\"_self\">\n",
      "     A Year of Surprising Science From NASA's InSight Mars Mission\n",
      "    </a>\n",
      "   </div>\n",
      "   <div class=\"article_teaser_body\">\n",
      "    A batch of new papers summarizes the lander's findings above and below the surface of the Red Planet.\n",
      "   </div>\n",
      "  </div>\n",
      " </div>\n",
      "</li>\n",
      "\n"
     ]
    }
   ],
   "source": [
    "# parse the soup object for the first slide class content and further examine\n",
    "nasa_mars_news_element = nasa_mars_news_soup.find('li', class_='slide')\n",
    "print(nasa_mars_news_element.prettify())"
   ]
  },
  {
   "cell_type": "code",
   "execution_count": 6,
   "metadata": {},
   "outputs": [
    {
     "name": "stdout",
     "output_type": "stream",
     "text": [
      "A Year of Surprising Science From NASA's InSight Mars Mission\n",
      "A batch of new papers summarizes the lander's findings above and below the surface of the Red Planet.\n"
     ]
    }
   ],
   "source": [
    "# verify extraction of the title and paragraph\n",
    "print(nasa_mars_news_element.find('h3').text)                            # news_title\n",
    "print(nasa_mars_news_element.find(class_=\"article_teaser_body\").text)    # news_p"
   ]
  },
  {
   "cell_type": "code",
   "execution_count": 7,
   "metadata": {},
   "outputs": [],
   "source": [
    "# add to the scrape dictionary\n",
    "scrape_data[\"nasa_mars_news_title\"] = nasa_mars_news_element.find('h3').text\n",
    "scrape_data[\"nasa_mars_news_p\"] = nasa_mars_news_element.find(class_=\"article_teaser_body\").text"
   ]
  },
  {
   "cell_type": "markdown",
   "metadata": {},
   "source": [
    "## JPL Mars Space Images \n",
    "Inspecting https://www.jpl.nasa.gov/spaceimages/?search=&category=Mars (with the browser inspector), the element that contains the featured image has class = \"carousel_container.\""
   ]
  },
  {
   "cell_type": "code",
   "execution_count": 8,
   "metadata": {},
   "outputs": [],
   "source": [
    "# render the web page content as a BeautifulSoup object and archive as a txt file, which \n",
    "# can then be inspected with an editor to verify correctness (i.e. matches the content shown\n",
    "# in the browser inspector)\n",
    "browser.visit(jpl_mars_site_url)\n",
    "jpl_mars_site_soup = BeautifulSoup(browser.html, 'html.parser')\n",
    "with open(\"html_txt/jpl_mars_site.txt\", \"w\") as file:\n",
    "    file.write(jpl_mars_site_soup.prettify())"
   ]
  },
  {
   "cell_type": "markdown",
   "metadata": {},
   "source": [
    "#### Inspect the carousel_container object\n",
    "Identify the applicable element to extract the image url.  \n",
    "**Note:** This can also be used to verify the correct html was downloaded, if this notebook is run again."
   ]
  },
  {
   "cell_type": "code",
   "execution_count": 9,
   "metadata": {},
   "outputs": [
    {
     "name": "stdout",
     "output_type": "stream",
     "text": [
      "<div class=\"carousel_container\">\n",
      " <div class=\"carousel_items\">\n",
      "  <article alt=\"NEOWISE: Back to Hunt More Asteroids (Artist Concept)\" class=\"carousel_item\" style=\"background-image: url('/spaceimages/images/wallpaper/PIA17254-1920x1200.jpg');\">\n",
      "   <div class=\"default floating_text_area ms-layer\">\n",
      "    <h2 class=\"category_title\">\n",
      "    </h2>\n",
      "    <h2 class=\"brand_title\">\n",
      "     FEATURED IMAGE\n",
      "    </h2>\n",
      "    <h1 class=\"media_feature_title\">\n",
      "     NEOWISE: Back to Hunt More Asteroids (Artist Concept)\n",
      "    </h1>\n",
      "    <div class=\"description\">\n",
      "    </div>\n",
      "    <footer>\n",
      "     <a class=\"button fancybox\" data-description=\"This artist's concept shows the NASA's WISE spacecraft, in its orbit around Earth. In September of 2013, engineers will attempt to bring the mission out of hibernation to hunt for more asteroids and comets in a project called NEOWISE.\" data-fancybox-group=\"images\" data-fancybox-href=\"/spaceimages/images/mediumsize/PIA17254_ip.jpg\" data-link=\"/spaceimages/details.php?id=PIA17254\" data-title=\"NEOWISE: Back to Hunt More Asteroids (Artist Concept)\" id=\"full_image\">\n",
      "      FULL IMAGE\n",
      "     </a>\n",
      "    </footer>\n",
      "   </div>\n",
      "   <div class=\"gradient_container_top\">\n",
      "   </div>\n",
      "   <div class=\"gradient_container_bottom\">\n",
      "   </div>\n",
      "  </article>\n",
      " </div>\n",
      "</div>\n",
      "\n"
     ]
    }
   ],
   "source": [
    "# parse the soup object for the carousel_container class content and further examine\n",
    "jpl_mars_site_element = jpl_mars_site_soup.find(class_='carousel_container')\n",
    "print(jpl_mars_site_element.prettify())"
   ]
  },
  {
   "cell_type": "code",
   "execution_count": 10,
   "metadata": {},
   "outputs": [
    {
     "name": "stdout",
     "output_type": "stream",
     "text": [
      "https://www.jpl.nasa.gov/spaceimages/images/mediumsize/PIA17254_ip.jpg\n"
     ]
    }
   ],
   "source": [
    "# extract the local URL link \n",
    "jpl_mars_site_local_link = jpl_mars_site_element.find(\"a\")['data-fancybox-href']\n",
    "\n",
    "# append the host URL link\n",
    "jpl_mars_site_link = 'https://www.jpl.nasa.gov' + jpl_mars_site_local_link\n",
    "print(jpl_mars_site_link)"
   ]
  },
  {
   "cell_type": "code",
   "execution_count": 11,
   "metadata": {},
   "outputs": [],
   "source": [
    "# add to the scrape dictionary\n",
    "scrape_data[\"jpl_mars_site_link\"] = jpl_mars_site_link"
   ]
  },
  {
   "cell_type": "markdown",
   "metadata": {},
   "source": [
    "## Mars Weather\n",
    "Inspecting https://twitter.com/marswxreport?lang=en (with the browser inspector), the element that contains the latest Mars weather is a \\<p> element with class=\"TweetTextSize\""
   ]
  },
  {
   "cell_type": "code",
   "execution_count": 12,
   "metadata": {},
   "outputs": [],
   "source": [
    "# retrieve page with the requests module \n",
    "# instead of Splinter, which did not get the complete content\n",
    "twitter_mars_weather_response = requests.get(twitter_mars_weather_url)\n",
    "\n",
    "# render the web page content as a BeautifulSoup object and archive as a txt file, which \n",
    "# can then be inspected with an editor to verify correctness (i.e. matches the content shown\n",
    "# in the browser inspector)\n",
    "twitter_mars_weather_soup = BeautifulSoup(twitter_mars_weather_response.text, 'html.parser')\n",
    "with open(\"html_txt/twitter_mars_weather_site.txt\", \"w\") as file:\n",
    "    file.write(twitter_mars_weather_soup.prettify())"
   ]
  },
  {
   "cell_type": "markdown",
   "metadata": {},
   "source": [
    "#### Inspect \\<p> object\n",
    "Identify the applicable element to extract the image url.  \n",
    "**Note:** This can also be used to verify the correct html was downloaded, if this notebook is run again."
   ]
  },
  {
   "cell_type": "code",
   "execution_count": 13,
   "metadata": {},
   "outputs": [
    {
     "name": "stdout",
     "output_type": "stream",
     "text": [
      "<p class=\"TweetTextSize TweetTextSize--normal js-tweet-text tweet-text\" data-aria-label-part=\"0\" lang=\"en\">\n",
      " InSight sol 444 (2020-02-25) low -93.8ºC (-136.8ºF) high -12.0ºC (10.5ºF)\n",
      "winds from the SSW at 6.2 m/s (13.9 mph) gusting to 21.2 m/s (47.4 mph)\n",
      "pressure at 6.30 hPa\n",
      " <a class=\"twitter-timeline-link u-hidden\" data-pre-embedded=\"true\" dir=\"ltr\" href=\"https://t.co/UeOmoDjhf3\">\n",
      "  pic.twitter.com/UeOmoDjhf3\n",
      " </a>\n",
      "</p>\n",
      "\n"
     ]
    }
   ],
   "source": [
    "# parse the soup object for the <p> content and further examine\n",
    "twitter_mars_weather_element = twitter_mars_weather_soup.find('p', class_=\"TweetTextSize\")\n",
    "print(twitter_mars_weather_element.prettify())"
   ]
  },
  {
   "cell_type": "markdown",
   "metadata": {},
   "source": [
    "#### Observation\n",
    "The first \\<p> element with class=\"TweetTextSize also contains the latest weather"
   ]
  },
  {
   "cell_type": "code",
   "execution_count": 14,
   "metadata": {},
   "outputs": [],
   "source": [
    "# extract the weather text\n",
    "twitter_mars_weather = twitter_mars_weather_element.text"
   ]
  },
  {
   "cell_type": "code",
   "execution_count": 15,
   "metadata": {},
   "outputs": [],
   "source": [
    "# add to the scrape dictionary\n",
    "scrape_data[\"twitter_mars_weather\"] = twitter_mars_weather"
   ]
  },
  {
   "cell_type": "markdown",
   "metadata": {},
   "source": [
    "## Mars Facts \n",
    "Inspecting https://space-facts.com/mars/ (with the browser inspector), html content has a \\<tr> tag (with a class modifier), which supports scrapping with Pandas."
   ]
  },
  {
   "cell_type": "code",
   "execution_count": 16,
   "metadata": {},
   "outputs": [],
   "source": [
    "# render the web page content as a BeautifulSoup object and archive as a txt file, which \n",
    "# can then be inspected with an editor to verify correctness (i.e. matches the content shown\n",
    "# in the browser inspector)\n",
    "browser.visit(mars_facts_site_url)\n",
    "mars_facts_site_soup = BeautifulSoup(browser.html, 'html.parser')\n",
    "with open(\"html_txt/mars_facts_site.txt\", \"w\") as file:\n",
    "    file.write(mars_facts_site_soup.prettify())"
   ]
  },
  {
   "cell_type": "code",
   "execution_count": 17,
   "metadata": {},
   "outputs": [
    {
     "data": {
      "text/plain": [
       "[                      0                              1\n",
       " 0  Equatorial Diameter:                       6,792 km\n",
       " 1       Polar Diameter:                       6,752 km\n",
       " 2                 Mass:  6.39 × 10^23 kg (0.11 Earths)\n",
       " 3                Moons:            2 (Phobos & Deimos)\n",
       " 4       Orbit Distance:       227,943,824 km (1.38 AU)\n",
       " 5         Orbit Period:           687 days (1.9 years)\n",
       " 6  Surface Temperature:                   -87 to -5 °C\n",
       " 7         First Record:              2nd millennium BC\n",
       " 8          Recorded By:           Egyptian astronomers,\n",
       "   Mars - Earth Comparison             Mars            Earth\n",
       " 0               Diameter:         6,779 km        12,742 km\n",
       " 1                   Mass:  6.39 × 10^23 kg  5.97 × 10^24 kg\n",
       " 2                  Moons:                2                1\n",
       " 3      Distance from Sun:   227,943,824 km   149,598,262 km\n",
       " 4         Length of Year:   687 Earth days      365.24 days\n",
       " 5            Temperature:    -153 to 20 °C      -88 to 58°C,\n",
       "                       0                              1\n",
       " 0  Equatorial Diameter:                       6,792 km\n",
       " 1       Polar Diameter:                       6,752 km\n",
       " 2                 Mass:  6.39 × 10^23 kg (0.11 Earths)\n",
       " 3                Moons:            2 (Phobos & Deimos)\n",
       " 4       Orbit Distance:       227,943,824 km (1.38 AU)\n",
       " 5         Orbit Period:           687 days (1.9 years)\n",
       " 6  Surface Temperature:                   -87 to -5 °C\n",
       " 7         First Record:              2nd millennium BC\n",
       " 8          Recorded By:           Egyptian astronomers]"
      ]
     },
     "execution_count": 17,
     "metadata": {},
     "output_type": "execute_result"
    }
   ],
   "source": [
    "mars_facts_site_tables = pd.read_html(mars_facts_site_url)\n",
    "mars_facts_site_tables"
   ]
  },
  {
   "cell_type": "code",
   "execution_count": 18,
   "metadata": {},
   "outputs": [
    {
     "data": {
      "text/plain": [
       "list"
      ]
     },
     "execution_count": 18,
     "metadata": {},
     "output_type": "execute_result"
    }
   ],
   "source": [
    "# the above shows only one table, but let's see if this really is a list of tables\n",
    "type(mars_facts_site_tables)"
   ]
  },
  {
   "cell_type": "code",
   "execution_count": 19,
   "metadata": {},
   "outputs": [
    {
     "data": {
      "text/html": [
       "<div>\n",
       "<style scoped>\n",
       "    .dataframe tbody tr th:only-of-type {\n",
       "        vertical-align: middle;\n",
       "    }\n",
       "\n",
       "    .dataframe tbody tr th {\n",
       "        vertical-align: top;\n",
       "    }\n",
       "\n",
       "    .dataframe thead th {\n",
       "        text-align: right;\n",
       "    }\n",
       "</style>\n",
       "<table border=\"1\" class=\"dataframe\">\n",
       "  <thead>\n",
       "    <tr style=\"text-align: right;\">\n",
       "      <th></th>\n",
       "      <th>Item</th>\n",
       "      <th>Value</th>\n",
       "    </tr>\n",
       "  </thead>\n",
       "  <tbody>\n",
       "    <tr>\n",
       "      <th>0</th>\n",
       "      <td>Equatorial Diameter:</td>\n",
       "      <td>6,792 km</td>\n",
       "    </tr>\n",
       "    <tr>\n",
       "      <th>1</th>\n",
       "      <td>Polar Diameter:</td>\n",
       "      <td>6,752 km</td>\n",
       "    </tr>\n",
       "    <tr>\n",
       "      <th>2</th>\n",
       "      <td>Mass:</td>\n",
       "      <td>6.39 × 10^23 kg (0.11 Earths)</td>\n",
       "    </tr>\n",
       "    <tr>\n",
       "      <th>3</th>\n",
       "      <td>Moons:</td>\n",
       "      <td>2 (Phobos &amp; Deimos)</td>\n",
       "    </tr>\n",
       "    <tr>\n",
       "      <th>4</th>\n",
       "      <td>Orbit Distance:</td>\n",
       "      <td>227,943,824 km (1.38 AU)</td>\n",
       "    </tr>\n",
       "  </tbody>\n",
       "</table>\n",
       "</div>"
      ],
      "text/plain": [
       "                   Item                          Value\n",
       "0  Equatorial Diameter:                       6,792 km\n",
       "1       Polar Diameter:                       6,752 km\n",
       "2                 Mass:  6.39 × 10^23 kg (0.11 Earths)\n",
       "3                Moons:            2 (Phobos & Deimos)\n",
       "4       Orbit Distance:       227,943,824 km (1.38 AU)"
      ]
     },
     "execution_count": 19,
     "metadata": {},
     "output_type": "execute_result"
    }
   ],
   "source": [
    "# extract the single table from the list of tables and name the columns\n",
    "mars_facts_site_table_df = mars_facts_site_tables[0]\n",
    "mars_facts_site_table_df.columns = ['Item', 'Value']\n",
    "mars_facts_site_table_df.head()"
   ]
  },
  {
   "cell_type": "code",
   "execution_count": 20,
   "metadata": {},
   "outputs": [
    {
     "data": {
      "text/plain": [
       "'<table border=\"1\" class=\"dataframe\">\\n  <thead>\\n    <tr style=\"text-align: right;\">\\n      <th></th>\\n      <th>Item</th>\\n      <th>Value</th>\\n    </tr>\\n  </thead>\\n  <tbody>\\n    <tr>\\n      <th>0</th>\\n      <td>Equatorial Diameter:</td>\\n      <td>6,792 km</td>\\n    </tr>\\n    <tr>\\n      <th>1</th>\\n      <td>Polar Diameter:</td>\\n      <td>6,752 km</td>\\n    </tr>\\n    <tr>\\n      <th>2</th>\\n      <td>Mass:</td>\\n      <td>6.39 × 10^23 kg (0.11 Earths)</td>\\n    </tr>\\n    <tr>\\n      <th>3</th>\\n      <td>Moons:</td>\\n      <td>2 (Phobos &amp; Deimos)</td>\\n    </tr>\\n    <tr>\\n      <th>4</th>\\n      <td>Orbit Distance:</td>\\n      <td>227,943,824 km (1.38 AU)</td>\\n    </tr>\\n    <tr>\\n      <th>5</th>\\n      <td>Orbit Period:</td>\\n      <td>687 days (1.9 years)</td>\\n    </tr>\\n    <tr>\\n      <th>6</th>\\n      <td>Surface Temperature:</td>\\n      <td>-87 to -5 °C</td>\\n    </tr>\\n    <tr>\\n      <th>7</th>\\n      <td>First Record:</td>\\n      <td>2nd millennium BC</td>\\n    </tr>\\n    <tr>\\n      <th>8</th>\\n      <td>Recorded By:</td>\\n      <td>Egyptian astronomers</td>\\n    </tr>\\n  </tbody>\\n</table>'"
      ]
     },
     "execution_count": 20,
     "metadata": {},
     "output_type": "execute_result"
    }
   ],
   "source": [
    "# convert the data frame to an html string\n",
    "mars_facts_site_html_table = mars_facts_site_table_df.to_html()\n",
    "mars_facts_site_html_table"
   ]
  },
  {
   "cell_type": "code",
   "execution_count": 21,
   "metadata": {},
   "outputs": [],
   "source": [
    "# add to the scrape dictionary\n",
    "scrape_data[\"mars_facts_html\"] = mars_facts_site_html_table"
   ]
  },
  {
   "cell_type": "markdown",
   "metadata": {},
   "source": [
    "## Mars Hemispheres\n",
    "Inspecting https://astrogeology.usgs.gov/search/results?q=hemisphere+enhanced&k1=target&v1=Mars (with the browser inspector), each hemisphere is presented as a \\\"product\\\". The hemisphere title is the text of a \\<h3> tag.  The link is in an element having the \\\"thumb\\\" class. \n",
    "\n",
    "Inspecting the linked page, the link for the high resolution image is in article having text = \\\"Original\\\"\n",
    "\n",
    "After the linked page is consumed, the parent page must be revisited to link to the next hemisphere."
   ]
  },
  {
   "cell_type": "code",
   "execution_count": 22,
   "metadata": {},
   "outputs": [],
   "source": [
    "# render the web page content as a BeautifulSoup object and archive as a txt file, which \n",
    "# can then be inspected with an editor to verify correctness (i.e. matches the content shown\n",
    "# in the browser inspector)\n",
    "browser.visit(usgs_astrogeology_site_url)\n",
    "usgs_astrogeology_site_soup = BeautifulSoup(browser.html, 'html.parser')\n",
    "with open(\"html_txt/usgs_astrogeology_site.txt\", \"w\") as file:\n",
    "    file.write(usgs_astrogeology_site_soup.prettify())"
   ]
  },
  {
   "cell_type": "code",
   "execution_count": 23,
   "metadata": {},
   "outputs": [
    {
     "name": "stdout",
     "output_type": "stream",
     "text": [
      "['Cerberus Hemisphere Enhanced', 'Schiaparelli Hemisphere Enhanced', 'Syrtis Major Hemisphere Enhanced', 'Valles Marineris Hemisphere Enhanced']\n"
     ]
    }
   ],
   "source": [
    "# build list of products\n",
    "# the webpage identifies each link as part of a \"product\" \n",
    "astrogeology_products_list = []\n",
    "astrogeology_products = usgs_astrogeology_site_soup.find_all('h3')\n",
    "for product in astrogeology_products:\n",
    "    title = product.text\n",
    "    astrogeology_products_list.append(title)\n",
    "print(astrogeology_products_list)"
   ]
  },
  {
   "cell_type": "code",
   "execution_count": 24,
   "metadata": {},
   "outputs": [
    {
     "name": "stdout",
     "output_type": "stream",
     "text": [
      "Button #0 = <splinter.driver.webdriver.WebDriverElement object at 0x120bfd950>\n",
      "Button #1 = <splinter.driver.webdriver.WebDriverElement object at 0x1208aa2d0>\n",
      "Button #2 = <splinter.driver.webdriver.WebDriverElement object at 0x120cbd350>\n",
      "Button #3 = <splinter.driver.webdriver.WebDriverElement object at 0x121416290>\n",
      "---------------\n",
      "{'title': 'Cerberus Hemisphere Enhanced', 'img_url': 'http://astropedia.astrogeology.usgs.gov/download/Mars/Viking/cerberus_enhanced.tif'}\n",
      "{'title': 'Schiaparelli Hemisphere Enhanced', 'img_url': 'http://astropedia.astrogeology.usgs.gov/download/Mars/Viking/schiaparelli_enhanced.tif'}\n",
      "{'title': 'Syrtis Major Hemisphere Enhanced', 'img_url': 'http://astropedia.astrogeology.usgs.gov/download/Mars/Viking/syrtis_major_enhanced.tif'}\n",
      "{'title': 'Valles Marineris Hemisphere Enhanced', 'img_url': 'http://astropedia.astrogeology.usgs.gov/download/Mars/Viking/valles_marineris_enhanced.tif'}\n"
     ]
    }
   ],
   "source": [
    "# extract the images from the child sites\n",
    "hemisphere_image_urls = []\n",
    "\n",
    "# click the link of each product (on the parent page) and get its image\n",
    "for image_idx in range(len(astrogeology_products_list)):\n",
    "    # revisit the parent page (return from the image page) and build a list of buttons to be clicked\n",
    "    # the button list is rebuilt\n",
    "    # the term \"button\" refers to the element that contains the link to the page with the high\n",
    "    # resolution image \n",
    "    browser.visit(usgs_astrogeology_site_url)\n",
    "    usgs_astrogeology_site_soup = BeautifulSoup(browser.html, 'html.parser')\n",
    "    buttons = browser.find_by_css('.thumb')\n",
    "    \n",
    "    # click the applicable button, per the loop count, which is image_idx\n",
    "    print(f\"Button #{image_idx} = {buttons[image_idx]}\")\n",
    "    buttons[image_idx].click()\n",
    "    \n",
    "    # obtain linked webpage content and save to a text file\n",
    "    soup = BeautifulSoup(browser.html, 'html.parser')\n",
    "    title = astrogeology_products_list[image_idx]\n",
    "    with open(\"html_txt/\" + title + \".txt\", \"w\") as file:\n",
    "        file.write(soup.prettify())\n",
    "    \n",
    "    # obtain the image of the product's corresponding webpage, which in the article having text = 'Original'\n",
    "    articles = soup.find_all('a')\n",
    "    for article in articles:\n",
    "        if article.text == 'Original':\n",
    "            img_url = article['href']\n",
    "\n",
    "    # append the title and image url as a dictionary to the image list\n",
    "    hemisphere_image_urls.append({\"title\": title, \"img_url\": img_url})\n",
    "\n",
    "    # end of for loop\n",
    "\n",
    "# print the dictionary\n",
    "print(\"---------------\")\n",
    "for dict in hemisphere_image_urls:\n",
    "    print(dict)"
   ]
  },
  {
   "cell_type": "code",
   "execution_count": 25,
   "metadata": {},
   "outputs": [],
   "source": [
    "# add to the scrape dictionary\n",
    "scrape_data[\"hemisphere_image_urls\"] = hemisphere_image_urls"
   ]
  },
  {
   "cell_type": "code",
   "execution_count": 26,
   "metadata": {},
   "outputs": [
    {
     "name": "stdout",
     "output_type": "stream",
     "text": [
      "latest Martian news title and paragraph\n",
      "---------------------------------------\n",
      "A Year of Surprising Science From NASA's InSight Mars Mission\n",
      "A batch of new papers summarizes the lander's findings above and below the surface of the Red Planet.\n",
      "\n",
      "featured Mars image URL\n",
      "-----------------------\n",
      "https://www.jpl.nasa.gov/spaceimages/images/mediumsize/PIA17254_ip.jpg\n",
      "\n",
      "Mars weather\n",
      "------------\n",
      "InSight sol 444 (2020-02-25) low -93.8ºC (-136.8ºF) high -12.0ºC (10.5ºF)\n",
      "winds from the SSW at 6.2 m/s (13.9 mph) gusting to 21.2 m/s (47.4 mph)\n",
      "pressure at 6.30 hPapic.twitter.com/UeOmoDjhf3\n",
      "\n",
      "Mars facts\n",
      "----------\n",
      "<table border=\"1\" class=\"dataframe\">\n",
      "  <thead>\n",
      "    <tr style=\"text-align: right;\">\n",
      "      <th></th>\n",
      "      <th>Item</th>\n",
      "      <th>Value</th>\n",
      "    </tr>\n",
      "  </thead>\n",
      "  <tbody>\n",
      "    <tr>\n",
      "      <th>0</th>\n",
      "      <td>Equatorial Diameter:</td>\n",
      "      <td>6,792 km</td>\n",
      "    </tr>\n",
      "    <tr>\n",
      "      <th>1</th>\n",
      "      <td>Polar Diameter:</td>\n",
      "      <td>6,752 km</td>\n",
      "    </tr>\n",
      "    <tr>\n",
      "      <th>2</th>\n",
      "      <td>Mass:</td>\n",
      "      <td>6.39 × 10^23 kg (0.11 Earths)</td>\n",
      "    </tr>\n",
      "    <tr>\n",
      "      <th>3</th>\n",
      "      <td>Moons:</td>\n",
      "      <td>2 (Phobos &amp; Deimos)</td>\n",
      "    </tr>\n",
      "    <tr>\n",
      "      <th>4</th>\n",
      "      <td>Orbit Distance:</td>\n",
      "      <td>227,943,824 km (1.38 AU)</td>\n",
      "    </tr>\n",
      "    <tr>\n",
      "      <th>5</th>\n",
      "      <td>Orbit Period:</td>\n",
      "      <td>687 days (1.9 years)</td>\n",
      "    </tr>\n",
      "    <tr>\n",
      "      <th>6</th>\n",
      "      <td>Surface Temperature:</td>\n",
      "      <td>-87 to -5 °C</td>\n",
      "    </tr>\n",
      "    <tr>\n",
      "      <th>7</th>\n",
      "      <td>First Record:</td>\n",
      "      <td>2nd millennium BC</td>\n",
      "    </tr>\n",
      "    <tr>\n",
      "      <th>8</th>\n",
      "      <td>Recorded By:</td>\n",
      "      <td>Egyptian astronomers</td>\n",
      "    </tr>\n",
      "  </tbody>\n",
      "</table>\n",
      "\n",
      "Mars hemispheres image urls\n",
      "---------------------------\n",
      "title = Cerberus Hemisphere Enhanced\n",
      "url = http://astropedia.astrogeology.usgs.gov/download/Mars/Viking/cerberus_enhanced.tif\n",
      "title = Schiaparelli Hemisphere Enhanced\n",
      "url = http://astropedia.astrogeology.usgs.gov/download/Mars/Viking/schiaparelli_enhanced.tif\n",
      "title = Syrtis Major Hemisphere Enhanced\n",
      "url = http://astropedia.astrogeology.usgs.gov/download/Mars/Viking/syrtis_major_enhanced.tif\n",
      "title = Valles Marineris Hemisphere Enhanced\n",
      "url = http://astropedia.astrogeology.usgs.gov/download/Mars/Viking/valles_marineris_enhanced.tif\n"
     ]
    }
   ],
   "source": [
    "# test the scrape dictionary\n",
    "print(\"latest Martian news title and paragraph\")\n",
    "print(\"---------------------------------------\")\n",
    "news_title = scrape_data[\"nasa_mars_news_title\"]\n",
    "news_p = scrape_data[\"nasa_mars_news_p\"]\n",
    "print(news_title)\n",
    "print(news_p)\n",
    "\n",
    "print(\"\\nfeatured Mars image URL\")\n",
    "print(\"-----------------------\")\n",
    "jpl_mars_url = scrape_data[\"jpl_mars_site_link\"]\n",
    "print(jpl_mars_url)\n",
    "\n",
    "print(\"\\nMars weather\")\n",
    "print(\"------------\")\n",
    "twitter_mars_weather = scrape_data[\"twitter_mars_weather\"]\n",
    "print(twitter_mars_weather)\n",
    "\n",
    "print(\"\\nMars facts\")\n",
    "print(\"----------\")\n",
    "mars_facts_html = scrape_data[\"mars_facts_html\"]\n",
    "print(mars_facts_html)\n",
    "\n",
    "print(\"\\nMars hemispheres image urls\")\n",
    "print(\"---------------------------\")\n",
    "for dict in scrape_data[\"hemisphere_image_urls\"]:\n",
    "    print(f\"title = {dict['title']}\")\n",
    "    print(f\"url = {dict['img_url']}\")\n"
   ]
  },
  {
   "cell_type": "code",
   "execution_count": null,
   "metadata": {},
   "outputs": [],
   "source": []
  }
 ],
 "metadata": {
  "kernelspec": {
   "display_name": "Python 3",
   "language": "python",
   "name": "python3"
  },
  "language_info": {
   "codemirror_mode": {
    "name": "ipython",
    "version": 3
   },
   "file_extension": ".py",
   "mimetype": "text/x-python",
   "name": "python",
   "nbconvert_exporter": "python",
   "pygments_lexer": "ipython3",
   "version": "3.7.6"
  }
 },
 "nbformat": 4,
 "nbformat_minor": 4
}
